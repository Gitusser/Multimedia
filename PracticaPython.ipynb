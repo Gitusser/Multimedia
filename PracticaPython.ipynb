{
 "cells": [
  {
   "cell_type": "markdown",
   "metadata": {},
   "source": [
    "# Sistemas Multimedia - MCDWT\n"
   ]
  },
  {
   "cell_type": "markdown",
   "metadata": {},
   "source": [
    "## Ejemplo: 1-iteration MDWT + 3-iterations MCDWT"
   ]
  },
  {
   "cell_type": "markdown",
   "metadata": {},
   "source": [
    "## Requisitos y pasos previos para el desarrollo del Ejemplo"
   ]
  },
  {
   "cell_type": "markdown",
   "metadata": {},
   "source": [
    "1. Cree una cuenta personal en GitHub, si no tiene una. Se recomiendo cargar una clave pública para identificarlo (consulte \n",
    "https://help.github.com/en/github/authenticating-to-github/adding-a-new-ssh-key-to-your-github-account).\n",
    "\n",
    "2.  Ir a: https://github.com/Sistemas-Multimedia/MCDWT\n",
    "3.  Fork el repositorio (haz clic en el botón Fork).\n",
    "4. Clona tu repositorio:\n",
    "      git clone git@github.com: <your-name-will-be-here> /MCDWT.git\n",
    "5. Agregue un control remoto para sincronizar su repositorio en el futuro:\n",
    "     git remote add upstream https://github.com/Sistemas-Multimedia/MCDWT.git\n",
    "\n",
    "\tAhora puede mantener su repositorio sincronizado con:\n",
    "\tgit pull upstream master\n",
    "\n",
    "Instalar el paquete pywt: \n",
    "\tpip3 install pywavelets –user\n",
    "Para instalar Jupyter:\n",
    "\tpip3 install jupyter –user\n",
    "\n",
    "Si necesita dividir un video en imágenes, utilice el script: MCDWT / tools / extract_images.sh. \n",
    "\n",
    "Instalar  ffmpeg :\n",
    "sudo apt-get install ffmpeg"
   ]
  },
  {
   "cell_type": "markdown",
   "metadata": {},
   "source": [
    "## Eliminar imágenes de ejemplos anteriores\n"
   ]
  },
  {
   "cell_type": "code",
   "execution_count": 29,
   "metadata": {},
   "outputs": [],
   "source": [
    "!rm -rf /multimedia/imagenestransformadamdwt/*.png\n",
    "!rm -rf /multimedia/imagenestransformadamcdwt/*.png\n",
    "!rm -rf /multimedia/imagenesoriginales/*.png\n",
    "!rm -rf /multimedia/videos/*.y4m\n"
   ]
  },
  {
   "cell_type": "markdown",
   "metadata": {},
   "source": [
    "## Desvargar video "
   ]
  },
  {
   "cell_type": "code",
   "execution_count": 30,
   "metadata": {},
   "outputs": [
    {
     "name": "stdout",
     "output_type": "stream",
     "text": [
      "--2020-01-29 12:36:42--  https://media.xiph.org/video/derf/y4m/bowing_cif.y4m\n",
      "Resolviendo media.xiph.org (media.xiph.org)... 54.39.18.101, 2607:5300:203:2965::\n",
      "Conectando con media.xiph.org (media.xiph.org)[54.39.18.101]:443... conectado.\n",
      "Petición HTTP enviada, esperando respuesta... 200 OK\n",
      "Longitud: 45621044 (44M)\n",
      "Guardando como: “/multimedia/videos/bowing_cif.y4m”\n",
      "\n",
      "/multimedia/videos/ 100%[===================>]  43,51M  4,26MB/s    en 30s     \n",
      "\n",
      "2020-01-29 12:37:13 (1,47 MB/s) - “/multimedia/videos/bowing_cif.y4m” guardado [45621044/45621044]\n",
      "\n",
      "MPlayer 1.3.0 (Debian), built with gcc-7 (C) 2000-2016 MPlayer Team\n",
      "do_connect: could not connect to socket\n",
      "connect: No such file or directory\n",
      "Failed to open LIRC support. You will not be able to use your remote control.\n",
      "\n",
      "Playing /multimedia/videos/bowing_cif.y4m.\n",
      "libavformat version 57.83.100 (external)\n",
      "libavformat file format detected.\n",
      "[lavf] stream 0: video (rawvideo), -vid 0\n",
      "VIDEO:  [I420]  352x288  0bpp  29.970 fps    0.0 kbps ( 0.0 kbyte/s)\n",
      "Failed to open VDPAU backend libvdpau_i965.so: cannot open shared object file: No such file or directory\n",
      "[vdpau] Error when calling vdp_device_create_x11: 1\n",
      "==========================================================================\n",
      "Opening video decoder: [raw] RAW Uncompressed Video\n",
      "Movie-Aspect is 1.34:1 - prescaling to correct movie aspect.\n",
      "VO: [xv] 352x288 => 386x288 Planar I420 \n",
      "Selected video codec: [rawi420] vfm: raw (RAW I420)\n",
      "==========================================================================\n",
      "Load subtitles in /multimedia/videos/\n",
      "Audio: no sound\n",
      "Starting playback...\n",
      "V:   3.1   0/  0  0%  0%  0.0% 0 0 \u001b[J\n",
      "\n",
      "Exiting... (Quit)\n"
     ]
    }
   ],
   "source": [
    "!wget https://media.xiph.org/video/derf/y4m/bowing_cif.y4m -O /multimedia/videos/bowing_cif.y4m\n",
    "!mplayer /multimedia/videos/bowing_cif.y4m  \n",
    "  "
   ]
  },
  {
   "cell_type": "markdown",
   "metadata": {},
   "source": [
    "## Extraer imágenes secuenciales del video descargado"
   ]
  },
  {
   "cell_type": "code",
   "execution_count": 31,
   "metadata": {},
   "outputs": [
    {
     "name": "stdout",
     "output_type": "stream",
     "text": [
      "ffmpeg version 3.4.6-0ubuntu0.18.04.1 Copyright (c) 2000-2019 the FFmpeg developers\n",
      "  built with gcc 7 (Ubuntu 7.3.0-16ubuntu3)\n",
      "  configuration: --prefix=/usr --extra-version=0ubuntu0.18.04.1 --toolchain=hardened --libdir=/usr/lib/x86_64-linux-gnu --incdir=/usr/include/x86_64-linux-gnu --enable-gpl --disable-stripping --enable-avresample --enable-avisynth --enable-gnutls --enable-ladspa --enable-libass --enable-libbluray --enable-libbs2b --enable-libcaca --enable-libcdio --enable-libflite --enable-libfontconfig --enable-libfreetype --enable-libfribidi --enable-libgme --enable-libgsm --enable-libmp3lame --enable-libmysofa --enable-libopenjpeg --enable-libopenmpt --enable-libopus --enable-libpulse --enable-librubberband --enable-librsvg --enable-libshine --enable-libsnappy --enable-libsoxr --enable-libspeex --enable-libssh --enable-libtheora --enable-libtwolame --enable-libvorbis --enable-libvpx --enable-libwavpack --enable-libwebp --enable-libx265 --enable-libxml2 --enable-libxvid --enable-libzmq --enable-libzvbi --enable-omx --enable-openal --enable-opengl --enable-sdl2 --enable-libdc1394 --enable-libdrm --enable-libiec61883 --enable-chromaprint --enable-frei0r --enable-libopencv --enable-libx264 --enable-shared\n",
      "  libavutil      55. 78.100 / 55. 78.100\n",
      "  libavcodec     57.107.100 / 57.107.100\n",
      "  libavformat    57. 83.100 / 57. 83.100\n",
      "  libavdevice    57. 10.100 / 57. 10.100\n",
      "  libavfilter     6.107.100 /  6.107.100\n",
      "  libavresample   3.  7.  0 /  3.  7.  0\n",
      "  libswscale      4.  8.100 /  4.  8.100\n",
      "  libswresample   2.  9.100 /  2.  9.100\n",
      "  libpostproc    54.  7.100 / 54.  7.100\n",
      "Input #0, yuv4mpegpipe, from '/multimedia/videos/bowing_cif.y4m':\n",
      "  Duration: 00:00:10.01, start: 0.000000, bitrate: 36460 kb/s\n",
      "    Stream #0:0: Video: rawvideo (I420 / 0x30323449), yuv420p(progressive), 352x288, SAR 128:117 DAR 1408:1053, 29.97 fps, 29.97 tbr, 29.97 tbn, 29.97 tbc\n",
      "Stream mapping:\n",
      "  Stream #0:0 -> #0:0 (rawvideo (native) -> png (native))\n",
      "Press [q] to stop, [?] for help\n",
      "Output #0, image2, to '/multimedia/imagenesoriginales/%03d.png':\n",
      "  Metadata:\n",
      "    encoder         : Lavf57.83.100\n",
      "    Stream #0:0: Video: png, rgb24, 352x288 [SAR 128:117 DAR 1408:1053], q=2-31, 200 kb/s, 29.97 fps, 29.97 tbn, 29.97 tbc\n",
      "    Metadata:\n",
      "      encoder         : Lavc57.107.100 png\n",
      "frame=   15 fps=0.0 q=-0.0 Lsize=N/A time=00:00:00.50 bitrate=N/A speed=4.53x    \n",
      "video:2060kB audio:0kB subtitle:0kB other streams:0kB global headers:0kB muxing overhead: unknown\n"
     ]
    }
   ],
   "source": [
    "!ffmpeg -i /multimedia/videos/bowing_cif.y4m -vframes 15 -start_number 0 /multimedia/imagenesoriginales/%03d.png"
   ]
  },
  {
   "cell_type": "markdown",
   "metadata": {},
   "source": [
    "##  Iteracción MDWT.\n"
   ]
  },
  {
   "cell_type": "code",
   "execution_count": 32,
   "metadata": {},
   "outputs": [],
   "source": [
    "!python3 -O MDWT.py -p /multimedia/imagenesoriginales/ -N 15"
   ]
  },
  {
   "cell_type": "markdown",
   "metadata": {},
   "source": [
    "## Guardar una copia de las subbandas MDWT "
   ]
  },
  {
   "cell_type": "code",
   "execution_count": 33,
   "metadata": {},
   "outputs": [],
   "source": [
    "!cp /multimedia/imagenesoriginales/LL*.png /multimedia/imagenestransformadamdwt  \n",
    "!cp /multimedia/imagenesoriginales/LH*.png /multimedia/imagenestransformadamdwt\n",
    "!cp /multimedia/imagenesoriginales/HL*.png /multimedia/imagenestransformadamdwt  \n",
    "!cp /multimedia/imagenesoriginales/HH*.png /multimedia/imagenestransformadamdwt\n",
    "!cp /multimedia/imagenesoriginales/LL*.png /multimedia/imagenestransformadamcdwt  \n",
    "!cp /multimedia/imagenesoriginales/LH*.png /multimedia/imagenestransformadamcdwt\n",
    "!cp /multimedia/imagenesoriginales/HL*.png /multimedia/imagenestransformadamcdwt  \n",
    "!cp /multimedia/imagenesoriginales/HH*.png /multimedia/imagenestransformadamcdwt"
   ]
  },
  {
   "cell_type": "markdown",
   "metadata": {},
   "source": [
    "## Iterationes MCDWT.  "
   ]
  },
  {
   "cell_type": "code",
   "execution_count": 34,
   "metadata": {},
   "outputs": [
    {
     "name": "stdout",
     "output_type": "stream",
     "text": [
      "a=2 a=4 a=6 a=8 a=10 a=12 a=14 a=4 a=8 a=12 a=8 "
     ]
    }
   ],
   "source": [
    "!python3 -O MCDWT.py -p /multimedia/imagenestransformadamcdwt/ -T 5 -N 15"
   ]
  },
  {
   "cell_type": "code",
   "execution_count": 35,
   "metadata": {},
   "outputs": [
    {
     "name": "stdout",
     "output_type": "stream",
     "text": [
      "-rw-r--r-- 1 root root 51801 ene 29 12:37 /multimedia/imagenestransformadamcdwt/LH000.png\t-rw-r--r-- 1 root root 51801 ene 29 12:37 /multimedia/imagenestransformadamdwt/LH000.png\r\n",
      "-rw-r--r-- 1 root root 48997 ene 29 12:37 /multimedia/imagenestransformadamcdwt/LH001.png\t-rw-r--r-- 1 root root 51912 ene 29 12:37 /multimedia/imagenestransformadamdwt/LH001.png\r\n",
      "-rw-r--r-- 1 root root 47314 ene 29 12:37 /multimedia/imagenestransformadamcdwt/LH002.png\t-rw-r--r-- 1 root root 51958 ene 29 12:37 /multimedia/imagenestransformadamdwt/LH002.png\r\n",
      "-rw-r--r-- 1 root root 48812 ene 29 12:37 /multimedia/imagenestransformadamcdwt/LH003.png\t-rw-r--r-- 1 root root 52180 ene 29 12:37 /multimedia/imagenestransformadamdwt/LH003.png\r\n",
      "-rw-r--r-- 1 root root 47368 ene 29 12:37 /multimedia/imagenestransformadamcdwt/LH004.png\t-rw-r--r-- 1 root root 52007 ene 29 12:37 /multimedia/imagenestransformadamdwt/LH004.png\r\n",
      "-rw-r--r-- 1 root root 48864 ene 29 12:37 /multimedia/imagenestransformadamcdwt/LH005.png\t-rw-r--r-- 1 root root 51846 ene 29 12:37 /multimedia/imagenestransformadamdwt/LH005.png\r\n",
      "-rw-r--r-- 1 root root 47537 ene 29 12:37 /multimedia/imagenestransformadamcdwt/LH006.png\t-rw-r--r-- 1 root root 52019 ene 29 12:37 /multimedia/imagenestransformadamdwt/LH006.png\r\n",
      "-rw-r--r-- 1 root root 48735 ene 29 12:37 /multimedia/imagenestransformadamcdwt/LH007.png\t-rw-r--r-- 1 root root 51877 ene 29 12:37 /multimedia/imagenestransformadamdwt/LH007.png\r\n",
      "-rw-r--r-- 1 root root 52016 ene 29 12:37 /multimedia/imagenestransformadamcdwt/LH008.png\t-rw-r--r-- 1 root root 52016 ene 29 12:37 /multimedia/imagenestransformadamdwt/LH008.png\r\n",
      "-rw-r--r-- 1 root root 48687 ene 29 12:37 /multimedia/imagenestransformadamcdwt/LH009.png\t-rw-r--r-- 1 root root 52119 ene 29 12:37 /multimedia/imagenestransformadamdwt/LH009.png\r\n",
      "-rw-r--r-- 1 root root 47507 ene 29 12:37 /multimedia/imagenestransformadamcdwt/LH010.png\t-rw-r--r-- 1 root root 51891 ene 29 12:37 /multimedia/imagenestransformadamdwt/LH010.png\r\n",
      "-rw-r--r-- 1 root root 48577 ene 29 12:37 /multimedia/imagenestransformadamcdwt/LH011.png\t-rw-r--r-- 1 root root 51658 ene 29 12:37 /multimedia/imagenestransformadamdwt/LH011.png\r\n",
      "-rw-r--r-- 1 root root 51857 ene 29 12:37 /multimedia/imagenestransformadamcdwt/LH012.png\t-rw-r--r-- 1 root root 51857 ene 29 12:37 /multimedia/imagenestransformadamdwt/LH012.png\r\n",
      "-rw-r--r-- 1 root root 48919 ene 29 12:37 /multimedia/imagenestransformadamcdwt/LH013.png\t-rw-r--r-- 1 root root 51898 ene 29 12:37 /multimedia/imagenestransformadamdwt/LH013.png\r\n",
      "-rw-r--r-- 1 root root 52015 ene 29 12:37 /multimedia/imagenestransformadamcdwt/LH014.png\t-rw-r--r-- 1 root root 52015 ene 29 12:37 /multimedia/imagenestransformadamdwt/LH014.png\r\n"
     ]
    }
   ],
   "source": [
    "!ls -l /multimedia/imagenestransformadamcdwt/LH*.png > /tmp/1  \n",
    "!ls -l /multimedia/imagenestransformadamdwt/LH*.png > /tmp/2  \n",
    "!paste /tmp/1 /tmp/2"
   ]
  },
  {
   "cell_type": "markdown",
   "metadata": {},
   "source": [
    "## Relacion de compresion (tamaño comprimido/tamaño original)"
   ]
  },
  {
   "cell_type": "code",
   "execution_count": 36,
   "metadata": {},
   "outputs": [
    {
     "name": "stdout",
     "output_type": "stream",
     "text": [
      "2,1M\t/multimedia/imagenesoriginales/\n",
      "2,1M\ttotal\n",
      "3,2M\t/multimedia/imagenestransformadamdwt/\n",
      "3,2M\ttotal\n",
      "3,1M\t/multimedia/imagenestransformadamcdwt/\n",
      "3,1M\ttotal\n"
     ]
    }
   ],
   "source": [
    "!rm -rf /multimedia/imagenesoriginales/L*.png\n",
    "!rm -rf /multimedia/imagenesoriginales/H*.png\n",
    "!du -csh /multimedia/imagenesoriginales/\n",
    "!du -csh /multimedia/imagenestransformadamdwt/\n",
    "!du -csh /multimedia/imagenestransformadamcdwt/\n"
   ]
  },
  {
   "cell_type": "code",
   "execution_count": 37,
   "metadata": {},
   "outputs": [
    {
     "name": "stdout",
     "output_type": "stream",
     "text": [
      "Tamaño de imagenes originales:  2109379  bytes\n",
      "Tamaño de imagenes Transformadas MDWT:  3181667  bytes\n",
      "Tamaño de imagenes Transformadas MCDWT:  3095572  bytes\n",
      "\n",
      "\n",
      "Relacion de compresion, algoritmo MDWT: 0.662979186696785  %\n",
      "Relacion de compresion, algoritmo MCDWT: 0.6814181676278245  %\n"
     ]
    }
   ],
   "source": [
    "import os\n",
    "def get_dir_size(the_path):\n",
    "    \"\"\"Get size of a directory tree in bytes.\"\"\"\n",
    "    path_size = 0\n",
    "    for path, dirs, files in os.walk(the_path):\n",
    "        for fil in files:\n",
    "            filename = os.path.join(path, fil)\n",
    "            path_size += os.path.getsize(filename)\n",
    "    return path_size\n",
    "\n",
    "tmoriginal = get_dir_size('/multimedia/imagenesoriginales/')\n",
    "tmdwt = get_dir_size('/multimedia/imagenestransformadamdwt/')\n",
    "tmcdwt = get_dir_size('/multimedia/imagenestransformadamcdwt/')\n",
    "\n",
    "print('Tamaño de imagenes originales: ',tmoriginal, ' bytes')\n",
    "print('Tamaño de imagenes Transformadas MDWT: ',tmdwt, ' bytes')\n",
    "print('Tamaño de imagenes Transformadas MCDWT: ',tmcdwt, ' bytes')\n",
    "print('\\n')\n",
    "print ('Relacion de compresion, algoritmo MDWT:',tmoriginal/tmdwt, ' %')\n",
    "print ('Relacion de compresion, algoritmo MCDWT:',tmoriginal/tmcdwt, ' %')\n"
   ]
  },
  {
   "cell_type": "code",
   "execution_count": null,
   "metadata": {},
   "outputs": [],
   "source": []
  },
  {
   "cell_type": "code",
   "execution_count": null,
   "metadata": {},
   "outputs": [],
   "source": []
  }
 ],
 "metadata": {
  "kernelspec": {
   "display_name": "Python 3",
   "language": "python",
   "name": "python3"
  },
  "language_info": {
   "codemirror_mode": {
    "name": "ipython",
    "version": 3
   },
   "file_extension": ".py",
   "mimetype": "text/x-python",
   "name": "python",
   "nbconvert_exporter": "python",
   "pygments_lexer": "ipython3",
   "version": "3.6.9"
  }
 },
 "nbformat": 4,
 "nbformat_minor": 2
}
